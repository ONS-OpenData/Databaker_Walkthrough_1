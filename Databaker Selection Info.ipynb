{
 "cells": [
  {
   "cell_type": "markdown",
   "metadata": {},
   "source": [
    "# Previewing Cell Selections, Selecton Methods\n",
    "\n",
    "There are a few ways to preview what you have selected before the point of data extraction.\n",
    "\n",
    "\n",
    "## The Simple Way: Check your selection with a print loop"
   ]
  },
  {
   "cell_type": "code",
   "execution_count": 8,
   "metadata": {
    "collapsed": false
   },
   "outputs": [
    {
     "name": "stdout",
     "output_type": "stream",
     "text": [
      "Loading databakerExample.xlsx which has size 10109 bytes\n",
      "Table names: ['Groups']\n",
      "{<C5 1.0>}\n",
      "{<D5 6.0>}\n",
      "{<E5 1.0>}\n",
      "{<C6 2.0>}\n",
      "{<D6 4.0>}\n",
      "{<E6 6.0>}\n",
      "{<C7 3.0>}\n",
      "{<D7 3.0>}\n",
      "{<E7 2.0>}\n",
      "{<C8 8.0>}\n",
      "{<D8 2.0>}\n",
      "{<E8 5.0>}\n",
      "{<C10 6.0>}\n",
      "{<D10 5.0>}\n",
      "{<E10 13.0>}\n",
      "{<C11 5.0>}\n",
      "{<D11 5.0>}\n",
      "{<E11 6.0>}\n",
      "{<C12 2.0>}\n",
      "{<D12 5.0>}\n",
      "{<E12 4.0>}\n",
      "{<C13 3.0>}\n",
      "{<D13 3.0>}\n",
      "{<E13 22.0>}\n"
     ]
    }
   ],
   "source": [
    "from databaker.framework import *\n",
    "\n",
    "# name the input and output file\n",
    "inputfile = 'databakerExample.xlsx'\n",
    "\n",
    "tabsWeWant = ['Groups']\n",
    "tabs = loadxlstabs(inputfile, tabsWeWant)\n",
    "\n",
    "for tab in tabs:\n",
    "    \n",
    "    observations = tab.excel_ref('C5').expand(DOWN).expand(RIGHT).is_not_blank()   # select\n",
    "    \n",
    "    for cell in observations:  # for each cell selected\n",
    "        print(cell)            # print the cell, this'll give you the excel reference and content\n"
   ]
  },
  {
   "cell_type": "markdown",
   "metadata": {
    "collapsed": false
   },
   "source": [
    "# Some selection Methods\n",
    "\n",
    "\n",
    "### tab.excel_ref()\n",
    "specifiy a selection. Can be specific cells ('A2' or 'Z50' etc) or sepcific rows or columns. So tab.excel_ref('2') is the whole of row 2.\n",
    "\n",
    "\n",
    "### tab.name\n",
    "the name of the tab being processed\n",
    "\n",
    "\n",
    "### .expand()\n",
    "you add RIGHT, LEFT, UP or DOWN between the brackets\n",
    "\n",
    "\n",
    "### .fill()         \n",
    "same as above but does not include current selection\n",
    "\n",
    "\n",
    "### .is_not_blank() \n",
    "remove any blank items from the current selection.\n",
    "\n",
    "\n",
    "### .filter()\n",
    "this is pretty similar to a search function. so to filter to only cells that SPECIFICALLY contain just the work \"Output\" you would use .filter('Output')\n",
    "\n",
    "\n",
    "### .filter(contains_string())\n",
    "\n",
    "a little more flexible version of the above which can be useful. so filter(contains_string('out')) would filter and only keep cells that only contain the text 'out' (case sensative).   \n",
    "\n",
    "### .shift(RIGHT)\n",
    "move the whole selection to the right. You can replace RIGHT with UP, DOWN or LEFT. You can also chain these. i.e .SHIFT(RIGHT).shift(RIGHT).is_not_blank()\n",
    "\n",
    "### .is_not_whitespace()\n",
    "useful for dealing with rogue spaces and tabs in spreadsheets.\n",
    "\n",
    "### is_bold()\n",
    "for differentiating between bold and not bold cells.\n",
    "\n",
    "---\n",
    "---\n",
    "---\n",
    "\n",
    "# Other Logic\n",
    "\n",
    "1. Remember that that any method starting \"is_not\" can be switched to \"is_\" and vice versa (i.e \"is_not_blank() can equally be \"is_blank()\".\n",
    "\n",
    "2. You can add and subtract selections of cells as needed. So the following \"myCells = tab.excel_ref('A2:A4') -  tab.excel_ref('A4')\" would end with cells A2 and A3 being stored in the variable myCells.\n",
    "\n",
    "3. If you want to add two selections of cells together use | rather than +. So 2 | 4 = 6 so to speak\n",
    "\n",
    "\n"
   ]
  }
 ],
 "metadata": {
  "anaconda-cloud": {},
  "kernelspec": {
   "display_name": "Python [default]",
   "language": "python",
   "name": "python3"
  },
  "language_info": {
   "codemirror_mode": {
    "name": "ipython",
    "version": 3
   },
   "file_extension": ".py",
   "mimetype": "text/x-python",
   "name": "python",
   "nbconvert_exporter": "python",
   "pygments_lexer": "ipython3",
   "version": "3.5.2"
  }
 },
 "nbformat": 4,
 "nbformat_minor": 2
}
